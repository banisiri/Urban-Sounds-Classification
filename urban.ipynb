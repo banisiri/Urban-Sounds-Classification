{
 "cells": [
  {
   "cell_type": "code",
   "execution_count": 2,
   "metadata": {},
   "outputs": [],
   "source": [
    "import os\n",
    "import random\n",
    "import pickle\n",
    "\n",
    "import pandas as pd\n",
    "import numpy as np\n",
    "import matplotlib.pyplot as plt\n",
    "\n",
    "import librosa\n",
    "import librosa.display\n",
    "import cv2 as cv\n",
    "import tensorflow as tf"
   ]
  },
  {
   "cell_type": "code",
   "execution_count": 3,
   "metadata": {},
   "outputs": [],
   "source": [
    "def create_spectrogram(y):\n",
    "    spec = librosa.feature.melspectrogram(y=y)\n",
    "    spec_conv = librosa.amplitude_to_db(spec, ref=np.max)\n",
    "    return spec_conv\n",
    "def save_spectrogram(spectrogram, file_name, classid):\n",
    "    if str(classid) not in os.listdir(\"spectrograms\"):\n",
    "        os.mkdir(f\"spectrograms/{classid}\")\n",
    "\n",
    "    save_name = file_name.split(\".\")[0]\n",
    "    \n",
    "    plt.figure()\n",
    "    librosa.display.specshow(spectrogram)\n",
    "    plt.savefig(f\"spectrograms/{classid}/{save_name}.png\", bbox_inches=\"tight\", pad_inches=0)\n",
    "    plt.close()"
   ]
  },
  {
   "cell_type": "code",
   "execution_count": 4,
   "metadata": {},
   "outputs": [
    {
     "data": {
      "text/html": [
       "<div>\n",
       "<style scoped>\n",
       "    .dataframe tbody tr th:only-of-type {\n",
       "        vertical-align: middle;\n",
       "    }\n",
       "\n",
       "    .dataframe tbody tr th {\n",
       "        vertical-align: top;\n",
       "    }\n",
       "\n",
       "    .dataframe thead th {\n",
       "        text-align: right;\n",
       "    }\n",
       "</style>\n",
       "<table border=\"1\" class=\"dataframe\">\n",
       "  <thead>\n",
       "    <tr style=\"text-align: right;\">\n",
       "      <th></th>\n",
       "      <th>slice_file_name</th>\n",
       "      <th>fsID</th>\n",
       "      <th>start</th>\n",
       "      <th>end</th>\n",
       "      <th>salience</th>\n",
       "      <th>fold</th>\n",
       "      <th>classID</th>\n",
       "      <th>class</th>\n",
       "    </tr>\n",
       "  </thead>\n",
       "  <tbody>\n",
       "    <tr>\n",
       "      <th>0</th>\n",
       "      <td>100032-3-0-0.wav</td>\n",
       "      <td>100032</td>\n",
       "      <td>0.0</td>\n",
       "      <td>0.317551</td>\n",
       "      <td>1</td>\n",
       "      <td>5</td>\n",
       "      <td>3</td>\n",
       "      <td>dog_bark</td>\n",
       "    </tr>\n",
       "    <tr>\n",
       "      <th>1</th>\n",
       "      <td>100263-2-0-117.wav</td>\n",
       "      <td>100263</td>\n",
       "      <td>58.5</td>\n",
       "      <td>62.500000</td>\n",
       "      <td>1</td>\n",
       "      <td>5</td>\n",
       "      <td>2</td>\n",
       "      <td>children_playing</td>\n",
       "    </tr>\n",
       "    <tr>\n",
       "      <th>2</th>\n",
       "      <td>100263-2-0-121.wav</td>\n",
       "      <td>100263</td>\n",
       "      <td>60.5</td>\n",
       "      <td>64.500000</td>\n",
       "      <td>1</td>\n",
       "      <td>5</td>\n",
       "      <td>2</td>\n",
       "      <td>children_playing</td>\n",
       "    </tr>\n",
       "    <tr>\n",
       "      <th>3</th>\n",
       "      <td>100263-2-0-126.wav</td>\n",
       "      <td>100263</td>\n",
       "      <td>63.0</td>\n",
       "      <td>67.000000</td>\n",
       "      <td>1</td>\n",
       "      <td>5</td>\n",
       "      <td>2</td>\n",
       "      <td>children_playing</td>\n",
       "    </tr>\n",
       "    <tr>\n",
       "      <th>4</th>\n",
       "      <td>100263-2-0-137.wav</td>\n",
       "      <td>100263</td>\n",
       "      <td>68.5</td>\n",
       "      <td>72.500000</td>\n",
       "      <td>1</td>\n",
       "      <td>5</td>\n",
       "      <td>2</td>\n",
       "      <td>children_playing</td>\n",
       "    </tr>\n",
       "  </tbody>\n",
       "</table>\n",
       "</div>"
      ],
      "text/plain": [
       "      slice_file_name    fsID  start        end  salience  fold  classID  \\\n",
       "0    100032-3-0-0.wav  100032    0.0   0.317551         1     5        3   \n",
       "1  100263-2-0-117.wav  100263   58.5  62.500000         1     5        2   \n",
       "2  100263-2-0-121.wav  100263   60.5  64.500000         1     5        2   \n",
       "3  100263-2-0-126.wav  100263   63.0  67.000000         1     5        2   \n",
       "4  100263-2-0-137.wav  100263   68.5  72.500000         1     5        2   \n",
       "\n",
       "              class  \n",
       "0          dog_bark  \n",
       "1  children_playing  \n",
       "2  children_playing  \n",
       "3  children_playing  \n",
       "4  children_playing  "
      ]
     },
     "execution_count": 4,
     "metadata": {},
     "output_type": "execute_result"
    }
   ],
   "source": [
    "df = pd.read_csv(\"UrbanSound8K/metadata/UrbanSound8K.csv\")\n",
    "df.head()"
   ]
  },
  {
   "cell_type": "code",
   "execution_count": 5,
   "metadata": {},
   "outputs": [],
   "source": [
    "path_to_folds = \"UrbanSound8K/audio\"\n",
    "\n",
    "if \"spectrograms\" not in os.listdir():\n",
    "    os.mkdir(\"spectrograms\")\n",
    "\n",
    "number_of_files = df.shape[0]\n",
    "number_of_processed = 0\n",
    "number_of_errors = 0"
   ]
  },
  {
   "cell_type": "code",
   "execution_count": 6,
   "metadata": {},
   "outputs": [
    {
     "name": "stdout",
     "output_type": "stream",
     "text": [
      "Number: 3555/8732 | Errors: 0"
     ]
    },
    {
     "name": "stderr",
     "output_type": "stream",
     "text": [
      "c:\\Users\\Banisiri\\AppData\\Local\\Programs\\Python\\Python310\\lib\\site-packages\\librosa\\util\\decorators.py:88: UserWarning: n_fft=2048 is too small for input signal of length=1323\n",
      "  return f(*args, **kwargs)\n"
     ]
    },
    {
     "name": "stdout",
     "output_type": "stream",
     "text": [
      "Number: 8327/8732 | Errors: 0"
     ]
    },
    {
     "name": "stderr",
     "output_type": "stream",
     "text": [
      "c:\\Users\\Banisiri\\AppData\\Local\\Programs\\Python\\Python310\\lib\\site-packages\\librosa\\util\\decorators.py:88: UserWarning: n_fft=2048 is too small for input signal of length=1103\n",
      "  return f(*args, **kwargs)\n"
     ]
    },
    {
     "name": "stdout",
     "output_type": "stream",
     "text": [
      "Number: 8329/8732 | Errors: 0"
     ]
    },
    {
     "name": "stderr",
     "output_type": "stream",
     "text": [
      "c:\\Users\\Banisiri\\AppData\\Local\\Programs\\Python\\Python310\\lib\\site-packages\\librosa\\util\\decorators.py:88: UserWarning: n_fft=2048 is too small for input signal of length=1523\n",
      "  return f(*args, **kwargs)\n"
     ]
    },
    {
     "name": "stdout",
     "output_type": "stream",
     "text": [
      "Number: 8732/8732 | Errors: 0"
     ]
    }
   ],
   "source": [
    "with open(\"errors.txt\", \"w\") as error_file:\n",
    "    for index, row in df.iterrows():\n",
    "        try:\n",
    "            file_name = row[\"slice_file_name\"]\n",
    "            fold = row[\"fold\"]\n",
    "            classid = row[\"classID\"]\n",
    "            path_to_file = f\"{path_to_folds}/fold{fold}/{file_name}\"\n",
    "                        \n",
    "            data, sr = librosa.load(path_to_file)\n",
    "            spectrogram = create_spectrogram(data)\n",
    "            save_spectrogram(spectrogram, file_name, classid)\n",
    "            \n",
    "            del data\n",
    "            del sr\n",
    "            del spectrogram\n",
    "            \n",
    "        except Exception as e:\n",
    "            number_of_errors += 1\n",
    "            error_file.write(f\"{number_of_errors}: {e}\\n\")\n",
    "        \n",
    "        finally:\n",
    "            number_of_processed += 1\n",
    "        \n",
    "        print(f\"\\rNumber: {number_of_processed}/{number_of_files} | Errors: {number_of_errors}\", end=\"\")"
   ]
  },
  {
   "cell_type": "code",
   "execution_count": 7,
   "metadata": {},
   "outputs": [
    {
     "name": "stdout",
     "output_type": "stream",
     "text": [
      "Processed: 8732 | Erros: 0"
     ]
    }
   ],
   "source": [
    "images = []\n",
    "number_of_errors = 0\n",
    "number_of_processed = 0\n",
    "\n",
    "for classid in os.listdir(\"spectrograms\"):\n",
    "    path_to_class = f\"spectrograms/{classid}\"\n",
    "    for image in os.listdir(path_to_class):\n",
    "        try:\n",
    "            path_to_image = f\"{path_to_class}/{image}\"\n",
    "            \n",
    "            img = cv.imread(path_to_image, 0)\n",
    "            img = cv.resize(img, (128,128))\n",
    "            img = img/255\n",
    "            images.append([img, int(classid)])\n",
    "            number_of_processed += 1\n",
    "\n",
    "        except:\n",
    "            number_of_errors += 1\n",
    "        \n",
    "        print(f\"\\rProcessed: {number_of_processed} | Erros: {number_of_errors}\", end=\"\")"
   ]
  },
  {
   "cell_type": "code",
   "execution_count": 8,
   "metadata": {},
   "outputs": [],
   "source": [
    "len(images)\n",
    "for _ in range(10):\n",
    "    random.shuffle(images)"
   ]
  },
  {
   "cell_type": "code",
   "execution_count": 9,
   "metadata": {},
   "outputs": [],
   "source": [
    "X = []\n",
    "y = []\n",
    "\n",
    "for image, idx in images:\n",
    "    X.append(image)\n",
    "    y.append(idx)\n",
    "\n",
    "X_train = []\n",
    "y_train = []\n",
    "X_val = []\n",
    "y_val = []\n",
    "X_test = []\n",
    "y_test = []\n",
    "\n",
    "X_train = X[:6293]\n",
    "y_train = y[:6293]\n",
    "\n",
    "X_val = X[6293:7079]\n",
    "y_val = y[6293:7079]\n",
    "\n",
    "X_test = X[7079:]\n",
    "y_test = y[7079:]"
   ]
  },
  {
   "cell_type": "code",
   "execution_count": 10,
   "metadata": {},
   "outputs": [
    {
     "name": "stdout",
     "output_type": "stream",
     "text": [
      "6293\n",
      "6293\n",
      "786\n",
      "786\n",
      "1653\n",
      "1653\n"
     ]
    }
   ],
   "source": [
    "print(len(X_train))\n",
    "print(len(y_train))\n",
    "print(len(X_val))\n",
    "print(len(y_val))\n",
    "print(len(X_test))\n",
    "print(len(y_test))"
   ]
  },
  {
   "cell_type": "code",
   "execution_count": 11,
   "metadata": {},
   "outputs": [],
   "source": [
    "X_train = np.array(X_train)\n",
    "y_train = np.array(y_train)\n",
    "X_val = np.array(X_val)\n",
    "y_val = np.array(y_val)\n",
    "X_test = np.array(X_test)\n",
    "y_test = np.array(y_test)\n",
    "\n",
    "X_train = X_train.reshape(-1, 128, 128, 1) \n",
    "X_val = X_val.reshape(-1, 128, 128, 1) \n",
    "X_test = X_test.reshape(-1, 128, 128, 1) "
   ]
  },
  {
   "cell_type": "code",
   "execution_count": 12,
   "metadata": {},
   "outputs": [],
   "source": [
    "if \"pickles\" not in os.listdir():\n",
    "    os.mkdir(\"pickles\")\n",
    "with open(\"pickles/X_train.pickle\", \"wb\") as f:\n",
    "  pickle.dump(X_train, f)  \n",
    "with open(\"pickles/y_train.pickle\", \"wb\") as f:\n",
    "  pickle.dump(y_train, f)\n",
    "with open(\"pickles/X_val.pickle\", \"wb\") as f:\n",
    "  pickle.dump(X_val, f)  \n",
    "with open(\"pickles/y_val.pickle\", \"wb\") as f:\n",
    "  pickle.dump(y_val, f)\n",
    "with open(\"pickles/X_test.pickle\", \"wb\") as f:\n",
    "  pickle.dump(X_test, f)  \n",
    "with open(\"pickles/y_test.pickle\", \"wb\") as f:\n",
    "  pickle.dump(y_test, f)"
   ]
  },
  {
   "cell_type": "code",
   "execution_count": 13,
   "metadata": {},
   "outputs": [],
   "source": [
    "model = tf.keras.Sequential()\n",
    "\n",
    "model.add(tf.keras.layers.Conv2D(32, kernel_size=(3,3), strides=(2,2), padding=\"same\", input_shape=(128, 128, 1)))\n",
    "model.add(tf.keras.layers.MaxPool2D(pool_size=(2,2), strides=(2,2)))\n",
    "model.add(tf.keras.layers.Conv2D(32, kernel_size=(3,3), strides=(2,2), padding=\"same\", activation=\"relu\"))\n",
    "model.add(tf.keras.layers.MaxPool2D(pool_size=(2,2), strides=(2,2)))\n",
    "model.add(tf.keras.layers.Conv2D(32, kernel_size=(3,3), strides=(2,2), padding=\"same\", activation=\"relu\"))\n",
    "model.add(tf.keras.layers.MaxPool2D(pool_size=(2,2), strides=(2,2)))\n",
    "\n",
    "model.add(tf.keras.layers.Flatten())\n",
    "\n",
    "model.add(tf.keras.layers.Dense(64, activation=\"relu\"))\n",
    "model.add(tf.keras.layers.Dropout(0.5))\n",
    "model.add(tf.keras.layers.Dense(64, activation=\"relu\"))\n",
    "model.add(tf.keras.layers.Dropout(0.5))\n",
    "model.add(tf.keras.layers.Dense(64, activation=\"relu\"))\n",
    "model.add(tf.keras.layers.Dropout(0.5))\n",
    "model.add(tf.keras.layers.Dense(64, activation=\"relu\"))\n",
    "model.add(tf.keras.layers.Dropout(0.5))\n",
    "\n",
    "model.add(tf.keras.layers.Dense(10, activation=\"softmax\"))\n",
    "\n",
    "model.compile(optimizer='adam', loss=\"sparse_categorical_crossentropy\", metrics=['accuracy'])"
   ]
  },
  {
   "cell_type": "code",
   "execution_count": 14,
   "metadata": {},
   "outputs": [
    {
     "name": "stdout",
     "output_type": "stream",
     "text": [
      "Epoch 1/60\n",
      "197/197 [==============================] - 48s 232ms/step - loss: 2.2278 - accuracy: 0.1397 - val_loss: 2.1333 - val_accuracy: 0.2455\n",
      "Epoch 2/60\n",
      "197/197 [==============================] - 44s 225ms/step - loss: 2.0776 - accuracy: 0.2086 - val_loss: 2.0416 - val_accuracy: 0.2443\n",
      "Epoch 3/60\n",
      "197/197 [==============================] - 45s 227ms/step - loss: 1.9755 - accuracy: 0.2500 - val_loss: 1.9195 - val_accuracy: 0.2977\n",
      "Epoch 4/60\n",
      "197/197 [==============================] - 45s 226ms/step - loss: 1.8894 - accuracy: 0.2701 - val_loss: 1.7586 - val_accuracy: 0.3206\n",
      "Epoch 5/60\n",
      "197/197 [==============================] - 50s 255ms/step - loss: 1.8377 - accuracy: 0.2827 - val_loss: 1.6583 - val_accuracy: 0.3321\n",
      "Epoch 6/60\n",
      "197/197 [==============================] - 46s 236ms/step - loss: 1.7687 - accuracy: 0.2848 - val_loss: 1.5515 - val_accuracy: 0.3422\n",
      "Epoch 7/60\n",
      "197/197 [==============================] - 46s 231ms/step - loss: 1.7227 - accuracy: 0.3068 - val_loss: 1.4923 - val_accuracy: 0.3817\n",
      "Epoch 8/60\n",
      "197/197 [==============================] - 47s 237ms/step - loss: 1.6848 - accuracy: 0.3192 - val_loss: 1.4853 - val_accuracy: 0.3779\n",
      "Epoch 9/60\n",
      "197/197 [==============================] - 44s 222ms/step - loss: 1.6270 - accuracy: 0.3412 - val_loss: 1.4422 - val_accuracy: 0.3880\n",
      "Epoch 10/60\n",
      "197/197 [==============================] - 43s 220ms/step - loss: 1.5810 - accuracy: 0.3558 - val_loss: 1.3933 - val_accuracy: 0.4173\n",
      "Epoch 11/60\n",
      "197/197 [==============================] - 47s 240ms/step - loss: 1.5488 - accuracy: 0.3661 - val_loss: 1.3872 - val_accuracy: 0.4415\n",
      "Epoch 12/60\n",
      "197/197 [==============================] - 47s 239ms/step - loss: 1.4963 - accuracy: 0.3849 - val_loss: 1.3004 - val_accuracy: 0.4606\n",
      "Epoch 13/60\n",
      "197/197 [==============================] - 46s 235ms/step - loss: 1.4709 - accuracy: 0.4073 - val_loss: 1.3070 - val_accuracy: 0.4427\n",
      "Epoch 14/60\n",
      "197/197 [==============================] - 46s 233ms/step - loss: 1.4311 - accuracy: 0.4224 - val_loss: 1.3163 - val_accuracy: 0.4631\n",
      "Epoch 15/60\n",
      "197/197 [==============================] - 47s 236ms/step - loss: 1.3857 - accuracy: 0.4346 - val_loss: 1.2065 - val_accuracy: 0.4885\n",
      "Epoch 16/60\n",
      "197/197 [==============================] - 47s 237ms/step - loss: 1.3541 - accuracy: 0.4559 - val_loss: 1.1898 - val_accuracy: 0.4924\n",
      "Epoch 17/60\n",
      "197/197 [==============================] - 46s 233ms/step - loss: 1.3223 - accuracy: 0.4686 - val_loss: 1.1523 - val_accuracy: 0.4962\n",
      "Epoch 18/60\n",
      "197/197 [==============================] - 47s 237ms/step - loss: 1.2772 - accuracy: 0.4845 - val_loss: 1.1664 - val_accuracy: 0.5000\n",
      "Epoch 19/60\n",
      "197/197 [==============================] - 48s 244ms/step - loss: 1.2548 - accuracy: 0.4829 - val_loss: 1.1899 - val_accuracy: 0.5013\n",
      "Epoch 20/60\n",
      "197/197 [==============================] - 47s 236ms/step - loss: 1.2378 - accuracy: 0.4955 - val_loss: 1.1141 - val_accuracy: 0.5356\n",
      "Epoch 21/60\n",
      "197/197 [==============================] - 45s 228ms/step - loss: 1.2450 - accuracy: 0.5028 - val_loss: 1.1247 - val_accuracy: 0.5216\n",
      "Epoch 22/60\n",
      "197/197 [==============================] - 50s 252ms/step - loss: 1.2133 - accuracy: 0.5176 - val_loss: 1.0837 - val_accuracy: 0.5305\n",
      "Epoch 23/60\n",
      "197/197 [==============================] - 45s 230ms/step - loss: 1.1736 - accuracy: 0.5226 - val_loss: 1.1572 - val_accuracy: 0.5153\n",
      "Epoch 24/60\n",
      "197/197 [==============================] - 47s 237ms/step - loss: 1.1750 - accuracy: 0.5130 - val_loss: 1.0999 - val_accuracy: 0.5382\n",
      "Epoch 25/60\n",
      "197/197 [==============================] - 47s 237ms/step - loss: 1.1391 - accuracy: 0.5334 - val_loss: 1.1623 - val_accuracy: 0.5267\n",
      "Epoch 26/60\n",
      "197/197 [==============================] - 47s 238ms/step - loss: 1.1374 - accuracy: 0.5331 - val_loss: 1.0814 - val_accuracy: 0.5204\n",
      "Epoch 27/60\n",
      "197/197 [==============================] - 46s 233ms/step - loss: 1.0894 - accuracy: 0.5446 - val_loss: 1.0563 - val_accuracy: 0.5496\n",
      "Epoch 28/60\n",
      "197/197 [==============================] - 46s 233ms/step - loss: 1.0953 - accuracy: 0.5435 - val_loss: 1.0933 - val_accuracy: 0.5369\n",
      "Epoch 29/60\n",
      "197/197 [==============================] - 46s 232ms/step - loss: 1.0853 - accuracy: 0.5592 - val_loss: 1.1088 - val_accuracy: 0.5496\n",
      "Epoch 30/60\n",
      "197/197 [==============================] - 48s 243ms/step - loss: 1.0721 - accuracy: 0.5573 - val_loss: 1.0499 - val_accuracy: 0.5649\n",
      "Epoch 31/60\n",
      "197/197 [==============================] - 50s 252ms/step - loss: 1.0729 - accuracy: 0.5683 - val_loss: 1.0792 - val_accuracy: 0.5483\n",
      "Epoch 32/60\n",
      "197/197 [==============================] - 50s 253ms/step - loss: 1.0388 - accuracy: 0.5732 - val_loss: 1.0488 - val_accuracy: 0.5534\n",
      "Epoch 33/60\n",
      "197/197 [==============================] - 49s 246ms/step - loss: 1.0238 - accuracy: 0.5708 - val_loss: 1.0455 - val_accuracy: 0.5598\n",
      "Epoch 34/60\n",
      "197/197 [==============================] - 46s 231ms/step - loss: 1.0195 - accuracy: 0.5833 - val_loss: 1.1225 - val_accuracy: 0.5407\n",
      "Epoch 35/60\n",
      "197/197 [==============================] - 46s 231ms/step - loss: 1.0087 - accuracy: 0.5843 - val_loss: 1.0554 - val_accuracy: 0.5712\n",
      "Epoch 36/60\n",
      "197/197 [==============================] - 45s 230ms/step - loss: 0.9936 - accuracy: 0.5927 - val_loss: 1.0292 - val_accuracy: 0.5992\n",
      "Epoch 37/60\n",
      "197/197 [==============================] - 45s 230ms/step - loss: 1.0002 - accuracy: 0.5965 - val_loss: 1.0550 - val_accuracy: 0.5827\n",
      "Epoch 38/60\n",
      "197/197 [==============================] - 51s 257ms/step - loss: 0.9835 - accuracy: 0.6027 - val_loss: 1.0672 - val_accuracy: 0.5852\n",
      "Epoch 39/60\n",
      "197/197 [==============================] - 51s 259ms/step - loss: 0.9698 - accuracy: 0.6069 - val_loss: 0.9987 - val_accuracy: 0.6005\n",
      "Epoch 40/60\n",
      "197/197 [==============================] - 49s 251ms/step - loss: 0.9322 - accuracy: 0.6228 - val_loss: 0.9559 - val_accuracy: 0.6349\n",
      "Epoch 41/60\n",
      "197/197 [==============================] - 49s 247ms/step - loss: 0.9579 - accuracy: 0.6174 - val_loss: 1.1366 - val_accuracy: 0.6145\n",
      "Epoch 42/60\n",
      "197/197 [==============================] - 50s 254ms/step - loss: 0.9744 - accuracy: 0.6143 - val_loss: 1.0263 - val_accuracy: 0.6272\n",
      "Epoch 43/60\n",
      "197/197 [==============================] - 47s 237ms/step - loss: 0.9271 - accuracy: 0.6383 - val_loss: 1.0535 - val_accuracy: 0.6132\n",
      "Epoch 44/60\n",
      "197/197 [==============================] - 46s 231ms/step - loss: 0.9128 - accuracy: 0.6434 - val_loss: 1.0008 - val_accuracy: 0.6361\n",
      "Epoch 45/60\n",
      "197/197 [==============================] - 46s 231ms/step - loss: 0.9367 - accuracy: 0.6293 - val_loss: 1.0031 - val_accuracy: 0.6527\n",
      "Epoch 46/60\n",
      "197/197 [==============================] - 45s 231ms/step - loss: 0.8932 - accuracy: 0.6483 - val_loss: 1.0422 - val_accuracy: 0.6603\n",
      "Epoch 47/60\n",
      "197/197 [==============================] - 46s 231ms/step - loss: 0.8922 - accuracy: 0.6556 - val_loss: 1.0160 - val_accuracy: 0.6438\n",
      "Epoch 48/60\n",
      "197/197 [==============================] - 46s 232ms/step - loss: 0.8884 - accuracy: 0.6550 - val_loss: 0.9444 - val_accuracy: 0.6641\n",
      "Epoch 49/60\n",
      "197/197 [==============================] - 45s 230ms/step - loss: 0.9001 - accuracy: 0.6491 - val_loss: 1.0047 - val_accuracy: 0.6578\n",
      "Epoch 50/60\n",
      "197/197 [==============================] - 46s 232ms/step - loss: 0.8594 - accuracy: 0.6579 - val_loss: 0.9747 - val_accuracy: 0.6565\n",
      "Epoch 51/60\n",
      "197/197 [==============================] - 45s 231ms/step - loss: 0.8488 - accuracy: 0.6725 - val_loss: 0.9766 - val_accuracy: 0.6552\n",
      "Epoch 52/60\n",
      "197/197 [==============================] - 45s 231ms/step - loss: 0.8398 - accuracy: 0.6672 - val_loss: 1.0103 - val_accuracy: 0.6603\n",
      "Epoch 53/60\n",
      "197/197 [==============================] - 45s 230ms/step - loss: 0.8348 - accuracy: 0.6730 - val_loss: 0.9484 - val_accuracy: 0.6603\n",
      "Epoch 54/60\n",
      "197/197 [==============================] - 45s 231ms/step - loss: 0.8301 - accuracy: 0.6703 - val_loss: 0.9699 - val_accuracy: 0.6578\n",
      "Epoch 55/60\n",
      "197/197 [==============================] - 45s 230ms/step - loss: 0.8575 - accuracy: 0.6606 - val_loss: 0.9655 - val_accuracy: 0.6552\n",
      "Epoch 56/60\n",
      "197/197 [==============================] - 46s 235ms/step - loss: 0.8180 - accuracy: 0.6827 - val_loss: 1.0594 - val_accuracy: 0.6412\n",
      "Epoch 57/60\n",
      "197/197 [==============================] - 49s 247ms/step - loss: 0.8016 - accuracy: 0.6897 - val_loss: 0.9843 - val_accuracy: 0.6845\n",
      "Epoch 58/60\n",
      "197/197 [==============================] - 47s 239ms/step - loss: 0.8230 - accuracy: 0.6787 - val_loss: 0.9883 - val_accuracy: 0.6768\n",
      "Epoch 59/60\n",
      "197/197 [==============================] - 47s 238ms/step - loss: 0.7935 - accuracy: 0.6943 - val_loss: 1.0941 - val_accuracy: 0.6603\n",
      "Epoch 60/60\n",
      "197/197 [==============================] - 50s 256ms/step - loss: 0.8124 - accuracy: 0.6909 - val_loss: 1.0487 - val_accuracy: 0.6539\n"
     ]
    }
   ],
   "source": [
    "history = model.fit(X_train, y_train, epochs=60, validation_data=(X_val, y_val))"
   ]
  },
  {
   "cell_type": "code",
   "execution_count": 15,
   "metadata": {},
   "outputs": [
    {
     "name": "stdout",
     "output_type": "stream",
     "text": [
      "52/52 [==============================] - 4s 68ms/step - loss: 1.0484 - accuracy: 0.6564\n",
      "Loss: 1.0484204292297363 - Accuracy: 0.6563823223114014\n"
     ]
    }
   ],
   "source": [
    "result = model.evaluate(X_test, y_test)\n",
    "print(f\"Loss: {result[0]} - Accuracy: {result[1]}\")"
   ]
  },
  {
   "cell_type": "code",
   "execution_count": 16,
   "metadata": {},
   "outputs": [
    {
     "data": {
      "image/png": "[encoded data removed]",
      "text/plain": [
       "<Figure size 640x480 with 1 Axes>"
      ]
     },
     "metadata": {},
     "output_type": "display_data"
    }
   ],
   "source": [
    "plt.plot(history.history[\"loss\"], label=\"Train\")\n",
    "plt.plot(history.history[\"val_loss\"], label=\"Validation\")\n",
    "plt.xlabel(\"Epoch\")\n",
    "plt.ylabel(\"Loss\")\n",
    "plt.legend()\n",
    "plt.show()"
   ]
  },
  {
   "cell_type": "code",
   "execution_count": 17,
   "metadata": {},
   "outputs": [
    {
     "data": {
      "image/png": "[encoded data removed]",
      "text/plain": [
       "<Figure size 640x480 with 1 Axes>"
      ]
     },
     "metadata": {},
     "output_type": "display_data"
    }
   ],
   "source": [
    "plt.plot(history.history[\"accuracy\"], label=\"Train\")\n",
    "plt.plot(history.history[\"val_accuracy\"], label=\"Validation\")\n",
    "plt.xlabel(\"Epoch\")\n",
    "plt.ylabel(\"Accuracy\")\n",
    "plt.legend()\n",
    "plt.show()"
   ]
  }
 ],
 "metadata": {
  "kernelspec": {
   "display_name": "Python 3.10.7 64-bit",
   "language": "python",
   "name": "python3"
  },
  "language_info": {
   "codemirror_mode": {
    "name": "ipython",
    "version": 3
   },
   "file_extension": ".py",
   "mimetype": "text/x-python",
   "name": "python",
   "nbconvert_exporter": "python",
   "pygments_lexer": "ipython3",
   "version": "3.10.7"
  },
  "orig_nbformat": 4,
  "vscode": {
   "interpreter": {
    "hash": "e0b44264181467635ea2bc6f47fe90068c9b6f8f6719ab5749f6d45e7317ca04"
   }
  }
 },
 "nbformat": 4,
 "nbformat_minor": 2
}
